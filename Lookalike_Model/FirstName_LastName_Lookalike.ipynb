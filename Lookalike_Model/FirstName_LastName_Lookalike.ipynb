{
  "nbformat": 4,
  "nbformat_minor": 0,
  "metadata": {
    "colab": {
      "provenance": []
    },
    "kernelspec": {
      "name": "python3",
      "display_name": "Python 3"
    },
    "language_info": {
      "name": "python"
    }
  },
  "cells": [
    {
      "cell_type": "markdown",
      "source": [
        "## Step 1: Import Libraries and Load Data\n",
        "Load the required libraries and datasets: `Customers.csv` and `Transactions.csv`.\n"
      ],
      "metadata": {
        "id": "BEoxffaLYQgV"
      }
    },
    {
      "cell_type": "code",
      "execution_count": 2,
      "metadata": {
        "colab": {
          "base_uri": "https://localhost:8080/",
          "height": 142
        },
        "id": "C7XGKJf_XqzF",
        "outputId": "2a7aeab5-5e38-4ddc-e73b-4ae30ae1a5ba"
      },
      "outputs": [
        {
          "output_type": "display_data",
          "data": {
            "text/plain": [
              "<IPython.core.display.HTML object>"
            ],
            "text/html": [
              "\n",
              "     <input type=\"file\" id=\"files-9a2edefa-d708-4d96-b609-7c7a5bb1f24f\" name=\"files[]\" multiple disabled\n",
              "        style=\"border:none\" />\n",
              "     <output id=\"result-9a2edefa-d708-4d96-b609-7c7a5bb1f24f\">\n",
              "      Upload widget is only available when the cell has been executed in the\n",
              "      current browser session. Please rerun this cell to enable.\n",
              "      </output>\n",
              "      <script>// Copyright 2017 Google LLC\n",
              "//\n",
              "// Licensed under the Apache License, Version 2.0 (the \"License\");\n",
              "// you may not use this file except in compliance with the License.\n",
              "// You may obtain a copy of the License at\n",
              "//\n",
              "//      http://www.apache.org/licenses/LICENSE-2.0\n",
              "//\n",
              "// Unless required by applicable law or agreed to in writing, software\n",
              "// distributed under the License is distributed on an \"AS IS\" BASIS,\n",
              "// WITHOUT WARRANTIES OR CONDITIONS OF ANY KIND, either express or implied.\n",
              "// See the License for the specific language governing permissions and\n",
              "// limitations under the License.\n",
              "\n",
              "/**\n",
              " * @fileoverview Helpers for google.colab Python module.\n",
              " */\n",
              "(function(scope) {\n",
              "function span(text, styleAttributes = {}) {\n",
              "  const element = document.createElement('span');\n",
              "  element.textContent = text;\n",
              "  for (const key of Object.keys(styleAttributes)) {\n",
              "    element.style[key] = styleAttributes[key];\n",
              "  }\n",
              "  return element;\n",
              "}\n",
              "\n",
              "// Max number of bytes which will be uploaded at a time.\n",
              "const MAX_PAYLOAD_SIZE = 100 * 1024;\n",
              "\n",
              "function _uploadFiles(inputId, outputId) {\n",
              "  const steps = uploadFilesStep(inputId, outputId);\n",
              "  const outputElement = document.getElementById(outputId);\n",
              "  // Cache steps on the outputElement to make it available for the next call\n",
              "  // to uploadFilesContinue from Python.\n",
              "  outputElement.steps = steps;\n",
              "\n",
              "  return _uploadFilesContinue(outputId);\n",
              "}\n",
              "\n",
              "// This is roughly an async generator (not supported in the browser yet),\n",
              "// where there are multiple asynchronous steps and the Python side is going\n",
              "// to poll for completion of each step.\n",
              "// This uses a Promise to block the python side on completion of each step,\n",
              "// then passes the result of the previous step as the input to the next step.\n",
              "function _uploadFilesContinue(outputId) {\n",
              "  const outputElement = document.getElementById(outputId);\n",
              "  const steps = outputElement.steps;\n",
              "\n",
              "  const next = steps.next(outputElement.lastPromiseValue);\n",
              "  return Promise.resolve(next.value.promise).then((value) => {\n",
              "    // Cache the last promise value to make it available to the next\n",
              "    // step of the generator.\n",
              "    outputElement.lastPromiseValue = value;\n",
              "    return next.value.response;\n",
              "  });\n",
              "}\n",
              "\n",
              "/**\n",
              " * Generator function which is called between each async step of the upload\n",
              " * process.\n",
              " * @param {string} inputId Element ID of the input file picker element.\n",
              " * @param {string} outputId Element ID of the output display.\n",
              " * @return {!Iterable<!Object>} Iterable of next steps.\n",
              " */\n",
              "function* uploadFilesStep(inputId, outputId) {\n",
              "  const inputElement = document.getElementById(inputId);\n",
              "  inputElement.disabled = false;\n",
              "\n",
              "  const outputElement = document.getElementById(outputId);\n",
              "  outputElement.innerHTML = '';\n",
              "\n",
              "  const pickedPromise = new Promise((resolve) => {\n",
              "    inputElement.addEventListener('change', (e) => {\n",
              "      resolve(e.target.files);\n",
              "    });\n",
              "  });\n",
              "\n",
              "  const cancel = document.createElement('button');\n",
              "  inputElement.parentElement.appendChild(cancel);\n",
              "  cancel.textContent = 'Cancel upload';\n",
              "  const cancelPromise = new Promise((resolve) => {\n",
              "    cancel.onclick = () => {\n",
              "      resolve(null);\n",
              "    };\n",
              "  });\n",
              "\n",
              "  // Wait for the user to pick the files.\n",
              "  const files = yield {\n",
              "    promise: Promise.race([pickedPromise, cancelPromise]),\n",
              "    response: {\n",
              "      action: 'starting',\n",
              "    }\n",
              "  };\n",
              "\n",
              "  cancel.remove();\n",
              "\n",
              "  // Disable the input element since further picks are not allowed.\n",
              "  inputElement.disabled = true;\n",
              "\n",
              "  if (!files) {\n",
              "    return {\n",
              "      response: {\n",
              "        action: 'complete',\n",
              "      }\n",
              "    };\n",
              "  }\n",
              "\n",
              "  for (const file of files) {\n",
              "    const li = document.createElement('li');\n",
              "    li.append(span(file.name, {fontWeight: 'bold'}));\n",
              "    li.append(span(\n",
              "        `(${file.type || 'n/a'}) - ${file.size} bytes, ` +\n",
              "        `last modified: ${\n",
              "            file.lastModifiedDate ? file.lastModifiedDate.toLocaleDateString() :\n",
              "                                    'n/a'} - `));\n",
              "    const percent = span('0% done');\n",
              "    li.appendChild(percent);\n",
              "\n",
              "    outputElement.appendChild(li);\n",
              "\n",
              "    const fileDataPromise = new Promise((resolve) => {\n",
              "      const reader = new FileReader();\n",
              "      reader.onload = (e) => {\n",
              "        resolve(e.target.result);\n",
              "      };\n",
              "      reader.readAsArrayBuffer(file);\n",
              "    });\n",
              "    // Wait for the data to be ready.\n",
              "    let fileData = yield {\n",
              "      promise: fileDataPromise,\n",
              "      response: {\n",
              "        action: 'continue',\n",
              "      }\n",
              "    };\n",
              "\n",
              "    // Use a chunked sending to avoid message size limits. See b/62115660.\n",
              "    let position = 0;\n",
              "    do {\n",
              "      const length = Math.min(fileData.byteLength - position, MAX_PAYLOAD_SIZE);\n",
              "      const chunk = new Uint8Array(fileData, position, length);\n",
              "      position += length;\n",
              "\n",
              "      const base64 = btoa(String.fromCharCode.apply(null, chunk));\n",
              "      yield {\n",
              "        response: {\n",
              "          action: 'append',\n",
              "          file: file.name,\n",
              "          data: base64,\n",
              "        },\n",
              "      };\n",
              "\n",
              "      let percentDone = fileData.byteLength === 0 ?\n",
              "          100 :\n",
              "          Math.round((position / fileData.byteLength) * 100);\n",
              "      percent.textContent = `${percentDone}% done`;\n",
              "\n",
              "    } while (position < fileData.byteLength);\n",
              "  }\n",
              "\n",
              "  // All done.\n",
              "  yield {\n",
              "    response: {\n",
              "      action: 'complete',\n",
              "    }\n",
              "  };\n",
              "}\n",
              "\n",
              "scope.google = scope.google || {};\n",
              "scope.google.colab = scope.google.colab || {};\n",
              "scope.google.colab._files = {\n",
              "  _uploadFiles,\n",
              "  _uploadFilesContinue,\n",
              "};\n",
              "})(self);\n",
              "</script> "
            ]
          },
          "metadata": {}
        },
        {
          "output_type": "stream",
          "name": "stdout",
          "text": [
            "Saving Customers.csv to Customers.csv\n",
            "Saving Products.csv to Products.csv\n",
            "Saving Transactions.csv to Transactions.csv\n"
          ]
        }
      ],
      "source": [
        "from google.colab import files\n",
        "uploaded = files.upload()  # Upload your CSV files\n"
      ]
    },
    {
      "cell_type": "code",
      "source": [
        "import os\n",
        "print(os.listdir())  # List all files in the current directory\n"
      ],
      "metadata": {
        "colab": {
          "base_uri": "https://localhost:8080/"
        },
        "id": "1ysnRU-rX13a",
        "outputId": "6816dccc-29ac-46ec-dcd8-7cfc5fa89ce3"
      },
      "execution_count": 3,
      "outputs": [
        {
          "output_type": "stream",
          "name": "stdout",
          "text": [
            "['.config', 'Customers.csv', 'Transactions.csv', 'Products.csv', 'sample_data']\n"
          ]
        }
      ]
    },
    {
      "cell_type": "code",
      "source": [
        "import pandas as pd\n",
        "\n",
        "# Load datasets\n",
        "customers = pd.read_csv('Customers.csv')\n",
        "transactions = pd.read_csv('Transactions.csv')\n",
        "\n",
        "# Display the first few rows to confirm\n",
        "print(customers.head())\n",
        "print(transactions.head())\n"
      ],
      "metadata": {
        "colab": {
          "base_uri": "https://localhost:8080/"
        },
        "id": "D34q2n8mYCui",
        "outputId": "5528c920-8565-4ee2-af11-261b327c825d"
      },
      "execution_count": 4,
      "outputs": [
        {
          "output_type": "stream",
          "name": "stdout",
          "text": [
            "  CustomerID        CustomerName         Region  SignupDate\n",
            "0      C0001    Lawrence Carroll  South America  2022-07-10\n",
            "1      C0002      Elizabeth Lutz           Asia  2022-02-13\n",
            "2      C0003      Michael Rivera  South America  2024-03-07\n",
            "3      C0004  Kathleen Rodriguez  South America  2022-10-09\n",
            "4      C0005         Laura Weber           Asia  2022-08-15\n",
            "  TransactionID CustomerID ProductID      TransactionDate  Quantity  \\\n",
            "0        T00001      C0199      P067  2024-08-25 12:38:23         1   \n",
            "1        T00112      C0146      P067  2024-05-27 22:23:54         1   \n",
            "2        T00166      C0127      P067  2024-04-25 07:38:55         1   \n",
            "3        T00272      C0087      P067  2024-03-26 22:55:37         2   \n",
            "4        T00363      C0070      P067  2024-03-21 15:10:10         3   \n",
            "\n",
            "   TotalValue   Price  \n",
            "0      300.68  300.68  \n",
            "1      300.68  300.68  \n",
            "2      300.68  300.68  \n",
            "3      601.36  300.68  \n",
            "4      902.04  300.68  \n"
          ]
        }
      ]
    },
    {
      "cell_type": "markdown",
      "source": [
        "## Step 2: Data Preprocessing\n",
        "### Actions:\n",
        "1. Merge customer and transaction datasets.\n",
        "2. Normalize numerical features (`Quantity`, `TotalValue`) using `StandardScaler`.\n",
        "3. Encode categorical features (`Region`, `ProductID`) using `LabelEncoder`.\n"
      ],
      "metadata": {
        "id": "UcsVeDZEYWhq"
      }
    },
    {
      "cell_type": "code",
      "source": [
        "data = customers.merge(transactions, on='CustomerID', how='left')\n"
      ],
      "metadata": {
        "id": "XWihOrTtYuXy"
      },
      "execution_count": 5,
      "outputs": []
    },
    {
      "cell_type": "code",
      "source": [
        "from sklearn.preprocessing import StandardScaler, LabelEncoder\n",
        "\n",
        "# Normalize numerical features\n",
        "scaler = StandardScaler()\n",
        "numerical_features = ['Quantity', 'TotalValue']\n",
        "data[numerical_features] = scaler.fit_transform(data[numerical_features])\n",
        "\n",
        "# Encode categorical features\n",
        "encoder = LabelEncoder()\n",
        "data['Region'] = encoder.fit_transform(data['Region'])\n",
        "data['ProductID'] = encoder.fit_transform(data['ProductID'])\n",
        "\n",
        "# Display processed data\n",
        "print(data.head())\n"
      ],
      "metadata": {
        "colab": {
          "base_uri": "https://localhost:8080/"
        },
        "id": "EjHWxlydY22_",
        "outputId": "5e611e22-b369-48ae-a27b-50163b106b37"
      },
      "execution_count": 6,
      "outputs": [
        {
          "output_type": "stream",
          "name": "stdout",
          "text": [
            "  CustomerID      CustomerName  Region  SignupDate TransactionID  ProductID  \\\n",
            "0      C0001  Lawrence Carroll       3  2022-07-10        T00015         53   \n",
            "1      C0001  Lawrence Carroll       3  2022-07-10        T00932         21   \n",
            "2      C0001  Lawrence Carroll       3  2022-07-10        T00085         95   \n",
            "3      C0001  Lawrence Carroll       3  2022-07-10        T00445         82   \n",
            "4      C0001  Lawrence Carroll       3  2022-07-10        T00436         28   \n",
            "\n",
            "       TransactionDate  Quantity  TotalValue   Price  \n",
            "0  2024-01-19 03:12:55 -0.480571   -1.167373   57.30  \n",
            "1  2024-09-17 09:01:18  0.414347   -0.562745  137.54  \n",
            "2  2024-04-08 00:01:00 -0.480571   -0.152274  307.47  \n",
            "3  2024-05-07 03:11:44 -0.480571    0.449270  455.72  \n",
            "4  2024-11-02 17:04:16  0.414347    1.239454  433.64  \n"
          ]
        }
      ]
    },
    {
      "cell_type": "markdown",
      "source": [
        "## Step 3: Similarity Calculation\n",
        "### Actions:\n",
        "1. Aggregate customer-level features by averaging numerical and encoded categorical data.\n",
        "2. Compute similarity scores using `Cosine Similarity`.\n",
        "3. Store results in a similarity matrix.\n"
      ],
      "metadata": {
        "id": "wDlzfZIyZIMz"
      }
    },
    {
      "cell_type": "code",
      "source": [
        "# Aggregate customer-level features\n",
        "numeric_columns = data.select_dtypes(include=['number']).columns\n",
        "customer_features = data.groupby('CustomerID')[numeric_columns].mean()\n",
        "\n",
        "# Display the processed DataFrame\n",
        "print(customer_features.head())\n",
        "\n"
      ],
      "metadata": {
        "colab": {
          "base_uri": "https://localhost:8080/"
        },
        "id": "a8MO12OCZUnx",
        "outputId": "fcde63d0-685e-45d0-93f8-5ae6a0b685ee"
      },
      "execution_count": 7,
      "outputs": [
        {
          "output_type": "stream",
          "name": "stdout",
          "text": [
            "            Region  ProductID  Quantity  TotalValue       Price\n",
            "CustomerID                                                     \n",
            "C0001          3.0  55.800000 -0.122604   -0.038733  278.334000\n",
            "C0002          0.0  46.250000 -0.033112   -0.455085  208.920000\n",
            "C0003          3.0  16.000000  0.861805   -0.017550  195.707500\n",
            "C0004          3.0  45.375000  0.302482   -0.041866  240.636250\n",
            "C0005          0.0  24.333333 -0.182265   -0.024175  291.603333\n"
          ]
        }
      ]
    },
    {
      "cell_type": "code",
      "source": [
        "print(customer_features.isnull().sum())\n",
        "\n"
      ],
      "metadata": {
        "colab": {
          "base_uri": "https://localhost:8080/"
        },
        "id": "83cjYFdmZf1A",
        "outputId": "69f60990-063d-47bc-fe11-491a6579bb11"
      },
      "execution_count": 8,
      "outputs": [
        {
          "output_type": "stream",
          "name": "stdout",
          "text": [
            "Region        0\n",
            "ProductID     0\n",
            "Quantity      1\n",
            "TotalValue    1\n",
            "Price         1\n",
            "dtype: int64\n"
          ]
        }
      ]
    },
    {
      "cell_type": "code",
      "source": [
        "customer_features.fillna(0, inplace=True)\n"
      ],
      "metadata": {
        "id": "gFoAQPMZZ2ok"
      },
      "execution_count": 9,
      "outputs": []
    },
    {
      "cell_type": "code",
      "source": [
        "print(customer_features.isnull().sum().sum())  # Should return 0\n"
      ],
      "metadata": {
        "colab": {
          "base_uri": "https://localhost:8080/"
        },
        "id": "3rPmlADxaRa8",
        "outputId": "5851a886-dd65-4420-d312-5db07571b9be"
      },
      "execution_count": 10,
      "outputs": [
        {
          "output_type": "stream",
          "name": "stdout",
          "text": [
            "0\n"
          ]
        }
      ]
    },
    {
      "cell_type": "code",
      "source": [
        "from sklearn.metrics.pairwise import cosine_similarity\n",
        "\n",
        "# Compute the similarity matrix\n",
        "similarity_matrix = cosine_similarity(customer_features)\n",
        "\n",
        "# Convert to a DataFrame\n",
        "similarity_df = pd.DataFrame(similarity_matrix,\n",
        "                             index=customer_features.index,\n",
        "                             columns=customer_features.index)\n",
        "\n",
        "# Display a preview of the similarity DataFrame\n",
        "print(similarity_df.head())\n"
      ],
      "metadata": {
        "colab": {
          "base_uri": "https://localhost:8080/"
        },
        "id": "K-ivShZSaVLu",
        "outputId": "8ac0c2c9-116e-4c2b-ae8e-ba1fdf53a01b"
      },
      "execution_count": 11,
      "outputs": [
        {
          "output_type": "stream",
          "name": "stdout",
          "text": [
            "CustomerID     C0001     C0002     C0003     C0004     C0005     C0006  \\\n",
            "CustomerID                                                               \n",
            "C0001       1.000000  0.999742  0.993225  0.999931  0.993385  0.999565   \n",
            "C0002       0.999742  1.000000  0.990599  0.999426  0.990952  0.998734   \n",
            "C0003       0.993225  0.990599  1.000000  0.994505  0.999869  0.996193   \n",
            "C0004       0.999931  0.999426  0.994505  1.000000  0.994611  0.999833   \n",
            "C0005       0.993385  0.990952  0.999869  0.994611  1.000000  0.996321   \n",
            "\n",
            "CustomerID     C0007     C0008     C0009     C0010  ...     C0191     C0192  \\\n",
            "CustomerID                                          ...                       \n",
            "C0001       0.999674  0.999879  0.999853  0.996646  ...  0.999949  0.995959   \n",
            "C0002       0.999990  0.999951  0.999380  0.998073  ...  0.999491  0.993909   \n",
            "C0003       0.990161  0.991329  0.994738  0.980421  ...  0.994343  0.999622   \n",
            "C0004       0.999322  0.999630  0.999935  0.995638  ...  0.999995  0.996919   \n",
            "C0005       0.990517  0.991554  0.995004  0.980765  ...  0.994492  0.999640   \n",
            "\n",
            "CustomerID     C0193     C0194     C0195     C0196     C0197     C0198  \\\n",
            "CustomerID                                                               \n",
            "C0001       0.999356  0.999942  0.999771  0.996498  0.999735  0.997037   \n",
            "C0002       0.998524  0.999506  0.999918  0.994659  0.999103  0.998383   \n",
            "C0003       0.996516  0.994346  0.990547  0.999362  0.995501  0.981354   \n",
            "C0004       0.999665  0.999985  0.999464  0.997373  0.999913  0.996073   \n",
            "C0005       0.996774  0.994535  0.990704  0.999501  0.995708  0.981756   \n",
            "\n",
            "CustomerID     C0199     C0200  \n",
            "CustomerID                      \n",
            "C0001       0.999587  0.999630  \n",
            "C0002       0.998843  0.998982  \n",
            "C0003       0.996020  0.995707  \n",
            "C0004       0.999827  0.999833  \n",
            "C0005       0.996237  0.995974  \n",
            "\n",
            "[5 rows x 200 columns]\n"
          ]
        }
      ]
    },
    {
      "cell_type": "markdown",
      "source": [
        "## Step 4: Generate Recommendations\n",
        "### Actions:\n",
        "1. For each of the first 20 customers, find the top 3 most similar customers based on similarity scores.\n",
        "2. Save recommendations in a CSV file with the following format:\n"
      ],
      "metadata": {
        "id": "hnJk-fJpap5G"
      }
    },
    {
      "cell_type": "code",
      "source": [
        "# Get top 3 similar customers for the first 20 customers\n",
        "def get_top_3_similar(customers_df, similarity_df):\n",
        "    results = []\n",
        "    for customer_id in customers_df['CustomerID'][:20]:\n",
        "        similar_customers = similarity_df.loc[customer_id].sort_values(ascending=False).iloc[1:4]\n",
        "        results.append({\n",
        "            'cust_id': customer_id,\n",
        "            'recommendations': [(idx, round(score, 4)) for idx, score in similar_customers.items()]\n",
        "        })\n",
        "    return results\n",
        "\n",
        "# Generate recommendations\n",
        "recommendations = get_top_3_similar(customers, similarity_df)\n",
        "\n",
        "# Display recommendations\n",
        "for rec in recommendations:\n",
        "    print(f\"Customer: {rec['cust_id']}, Recommendations: {rec['recommendations']}\")\n"
      ],
      "metadata": {
        "colab": {
          "base_uri": "https://localhost:8080/"
        },
        "id": "bCrZCDXoaa6Q",
        "outputId": "eab1ba4e-3dc3-416b-de5c-e5064862d15d"
      },
      "execution_count": 12,
      "outputs": [
        {
          "output_type": "stream",
          "name": "stdout",
          "text": [
            "Customer: C0001, Recommendations: [('C0174', 1.0), ('C0098', 1.0), ('C0122', 1.0)]\n",
            "Customer: C0002, Recommendations: [('C0123', 1.0), ('C0093', 1.0), ('C0007', 1.0)]\n",
            "Customer: C0003, Recommendations: [('C0137', 1.0), ('C0079', 0.9999), ('C0085', 0.9999)]\n",
            "Customer: C0004, Recommendations: [('C0191', 1.0), ('C0120', 1.0), ('C0194', 1.0)]\n",
            "Customer: C0005, Recommendations: [('C0186', 1.0), ('C0079', 1.0), ('C0040', 1.0)]\n",
            "Customer: C0006, Recommendations: [('C0125', 1.0), ('C0087', 1.0), ('C0035', 1.0)]\n",
            "Customer: C0007, Recommendations: [('C0123', 1.0), ('C0167', 1.0), ('C0002', 1.0)]\n",
            "Customer: C0008, Recommendations: [('C0047', 1.0), ('C0130', 1.0), ('C0116', 1.0)]\n",
            "Customer: C0009, Recommendations: [('C0184', 1.0), ('C0056', 1.0), ('C0065', 1.0)]\n",
            "Customer: C0010, Recommendations: [('C0109', 1.0), ('C0014', 1.0), ('C0038', 1.0)]\n",
            "Customer: C0011, Recommendations: [('C0133', 1.0), ('C0104', 1.0), ('C0018', 1.0)]\n",
            "Customer: C0012, Recommendations: [('C0163', 1.0), ('C0102', 1.0), ('C0076', 1.0)]\n",
            "Customer: C0013, Recommendations: [('C0192', 1.0), ('C0107', 1.0), ('C0129', 1.0)]\n",
            "Customer: C0014, Recommendations: [('C0010', 1.0), ('C0109', 1.0), ('C0038', 1.0)]\n",
            "Customer: C0015, Recommendations: [('C0125', 1.0), ('C0199', 1.0), ('C0042', 1.0)]\n",
            "Customer: C0016, Recommendations: [('C0064', 1.0), ('C0069', 1.0), ('C0131', 1.0)]\n",
            "Customer: C0017, Recommendations: [('C0166', 1.0), ('C0106', 1.0), ('C0179', 1.0)]\n",
            "Customer: C0018, Recommendations: [('C0148', 1.0), ('C0133', 1.0), ('C0011', 1.0)]\n",
            "Customer: C0019, Recommendations: [('C0023', 1.0), ('C0030', 1.0), ('C0074', 1.0)]\n",
            "Customer: C0020, Recommendations: [('C0189', 1.0), ('C0095', 1.0), ('C0062', 0.9999)]\n"
          ]
        }
      ]
    },
    {
      "cell_type": "code",
      "source": [
        "# Prepare recommendations for CSV\n",
        "lookalike_data = []\n",
        "for rec in recommendations:\n",
        "    row = [rec['cust_id']]\n",
        "    for cust, score in rec['recommendations']:\n",
        "        row.extend([cust, score])\n",
        "    lookalike_data.append(row)\n",
        "\n",
        "# Define column names\n",
        "columns = [\"cust_id\", \"recommended_cust_id_1\", \"score_1\", \"recommended_cust_id_2\", \"score_2\", \"recommended_cust_id_3\", \"score_3\"]\n",
        "\n",
        "# Create a DataFrame\n",
        "lookalike_df = pd.DataFrame(lookalike_data, columns=columns)\n",
        "\n",
        "# Save to CSV\n",
        "lookalike_df.to_csv('FirstName_LastName_Lookalike.csv', index=False)\n",
        "\n",
        "print(\"Lookalike recommendations saved to 'FirstName_LastName_Lookalike.csv'\")\n"
      ],
      "metadata": {
        "colab": {
          "base_uri": "https://localhost:8080/"
        },
        "id": "doMmU2ira0WU",
        "outputId": "79baaea6-5b18-4aa1-fb99-30f4c296ff80"
      },
      "execution_count": 13,
      "outputs": [
        {
          "output_type": "stream",
          "name": "stdout",
          "text": [
            "Lookalike recommendations saved to 'FirstName_LastName_Lookalike.csv'\n"
          ]
        }
      ]
    },
    {
      "cell_type": "code",
      "source": [
        "from sklearn.cluster import KMeans\n",
        "from sklearn.metrics import davies_bouldin_score\n",
        "import matplotlib.pyplot as plt\n",
        "import pandas as pd\n"
      ],
      "metadata": {
        "id": "xyXdca7za2nx"
      },
      "execution_count": 14,
      "outputs": []
    },
    {
      "cell_type": "code",
      "source": [
        "# Store results for evaluation\n",
        "db_scores = []\n",
        "k_values = list(range(2, 11))\n",
        "\n",
        "# Loop through the range of clusters\n",
        "for k in k_values:\n",
        "    # Initialize and fit the K-Means model\n",
        "    kmeans = KMeans(n_clusters=k, random_state=42)\n",
        "    kmeans.fit(customer_features)\n",
        "\n",
        "    # Predict cluster assignments\n",
        "    clusters = kmeans.labels_\n",
        "\n",
        "    # Compute Davies-Bouldin Index\n",
        "    db_score = davies_bouldin_score(customer_features, clusters)\n",
        "    db_scores.append(db_score)\n",
        "\n",
        "    print(f\"Number of Clusters: {k}, Davies-Bouldin Index: {db_score}\")\n"
      ],
      "metadata": {
        "colab": {
          "base_uri": "https://localhost:8080/"
        },
        "id": "8tnaOTL7Ai7C",
        "outputId": "00433ec6-1931-46e7-d3a4-11edebb299ff"
      },
      "execution_count": 15,
      "outputs": [
        {
          "output_type": "stream",
          "name": "stdout",
          "text": [
            "Number of Clusters: 2, Davies-Bouldin Index: 0.7146230323132255\n",
            "Number of Clusters: 3, Davies-Bouldin Index: 0.6727436710112352\n",
            "Number of Clusters: 4, Davies-Bouldin Index: 0.5974158364472919\n",
            "Number of Clusters: 5, Davies-Bouldin Index: 0.6630727276563411\n",
            "Number of Clusters: 6, Davies-Bouldin Index: 0.6978886913354782\n",
            "Number of Clusters: 7, Davies-Bouldin Index: 0.683925940983216\n",
            "Number of Clusters: 8, Davies-Bouldin Index: 0.7250384322852328\n",
            "Number of Clusters: 9, Davies-Bouldin Index: 0.8057532394802337\n",
            "Number of Clusters: 10, Davies-Bouldin Index: 0.7876538497007481\n"
          ]
        }
      ]
    },
    {
      "cell_type": "code",
      "source": [
        "# Plot DBI scores\n",
        "plt.figure(figsize=(10, 6))\n",
        "plt.plot(k_values, db_scores, marker='o', linestyle='-', color='b')\n",
        "plt.title('Davies-Bouldin Index for Different Number of Clusters')\n",
        "plt.xlabel('Number of Clusters (k)')\n",
        "plt.ylabel('Davies-Bouldin Index')\n",
        "plt.grid()\n",
        "plt.show()\n"
      ],
      "metadata": {
        "colab": {
          "base_uri": "https://localhost:8080/",
          "height": 551
        },
        "id": "k9tkwDuPAmDf",
        "outputId": "b6ac469e-a287-412a-bf57-521a5b5769f6"
      },
      "execution_count": 16,
      "outputs": [
        {
          "output_type": "display_data",
          "data": {
            "text/plain": [
              "<Figure size 1000x600 with 1 Axes>"
            ],
            "image/png": "[encoded data removed]"
          },
          "metadata": {}
        }
      ]
    },
    {
      "cell_type": "code",
      "source": [
        "# Fit K-Means with the optimal number of clusters (example: 3)\n",
        "optimal_k = 3  # Replace with your optimal k\n",
        "kmeans = KMeans(n_clusters=optimal_k, random_state=42)\n",
        "customer_features['Cluster'] = kmeans.fit_predict(customer_features)\n",
        "\n",
        "# Save results to CSV\n",
        "customer_features.to_csv('FirstName_LastName_Clustering.csv', index=True)\n",
        "print(\"Clustering results saved to 'FirstName_LastName_Clustering.csv'\")\n"
      ],
      "metadata": {
        "colab": {
          "base_uri": "https://localhost:8080/"
        },
        "id": "peUnsLK_Ao5S",
        "outputId": "11823c83-6302-46db-f173-b82c1848044b"
      },
      "execution_count": 17,
      "outputs": [
        {
          "output_type": "stream",
          "name": "stdout",
          "text": [
            "Clustering results saved to 'FirstName_LastName_Clustering.csv'\n"
          ]
        }
      ]
    },
    {
      "cell_type": "code",
      "source": [],
      "metadata": {
        "id": "uRfd0X3LArnz"
      },
      "execution_count": null,
      "outputs": []
    }
  ]
}